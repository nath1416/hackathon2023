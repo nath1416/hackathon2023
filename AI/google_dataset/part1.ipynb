{
 "cells": [
  {
   "cell_type": "code",
   "execution_count": 4,
   "metadata": {},
   "outputs": [],
   "source": [
    "import cohere\n",
    "\n",
    "from cohere.classify import Example\n",
    "#Example(data,key)\n",
    "\n",
    "import pandas\n",
    "co = cohere.Client('FU0PxYd1At7VfBuFkqAX5I1G4Poykr7dmgoM8fsg')\n",
    "\n"
   ]
  },
  {
   "cell_type": "code",
   "execution_count": 5,
   "metadata": {},
   "outputs": [],
   "source": [
    "#read dataset\n",
    "df = pandas.read_csv(r\"hackathon2023\\AI\\google_dataset\\go_emotions_dataset.csv\")"
   ]
  },
  {
   "cell_type": "code",
   "execution_count": 6,
   "metadata": {},
   "outputs": [
    {
     "data": {
      "text/html": [
       "<div>\n",
       "<style scoped>\n",
       "    .dataframe tbody tr th:only-of-type {\n",
       "        vertical-align: middle;\n",
       "    }\n",
       "\n",
       "    .dataframe tbody tr th {\n",
       "        vertical-align: top;\n",
       "    }\n",
       "\n",
       "    .dataframe thead th {\n",
       "        text-align: right;\n",
       "    }\n",
       "</style>\n",
       "<table border=\"1\" class=\"dataframe\">\n",
       "  <thead>\n",
       "    <tr style=\"text-align: right;\">\n",
       "      <th></th>\n",
       "      <th>id</th>\n",
       "      <th>text</th>\n",
       "      <th>example_very_unclear</th>\n",
       "      <th>admiration</th>\n",
       "      <th>amusement</th>\n",
       "      <th>anger</th>\n",
       "      <th>annoyance</th>\n",
       "      <th>approval</th>\n",
       "      <th>caring</th>\n",
       "      <th>confusion</th>\n",
       "      <th>...</th>\n",
       "      <th>love</th>\n",
       "      <th>nervousness</th>\n",
       "      <th>optimism</th>\n",
       "      <th>pride</th>\n",
       "      <th>realization</th>\n",
       "      <th>relief</th>\n",
       "      <th>remorse</th>\n",
       "      <th>sadness</th>\n",
       "      <th>surprise</th>\n",
       "      <th>neutral</th>\n",
       "    </tr>\n",
       "  </thead>\n",
       "  <tbody>\n",
       "    <tr>\n",
       "      <th>0</th>\n",
       "      <td>eew5j0j</td>\n",
       "      <td>That game hurt.</td>\n",
       "      <td>False</td>\n",
       "      <td>0</td>\n",
       "      <td>0</td>\n",
       "      <td>0</td>\n",
       "      <td>0</td>\n",
       "      <td>0</td>\n",
       "      <td>0</td>\n",
       "      <td>0</td>\n",
       "      <td>...</td>\n",
       "      <td>0</td>\n",
       "      <td>0</td>\n",
       "      <td>0</td>\n",
       "      <td>0</td>\n",
       "      <td>0</td>\n",
       "      <td>0</td>\n",
       "      <td>0</td>\n",
       "      <td>1</td>\n",
       "      <td>0</td>\n",
       "      <td>0</td>\n",
       "    </tr>\n",
       "    <tr>\n",
       "      <th>1</th>\n",
       "      <td>eemcysk</td>\n",
       "      <td>&gt;sexuality shouldn’t be a grouping category I...</td>\n",
       "      <td>True</td>\n",
       "      <td>0</td>\n",
       "      <td>0</td>\n",
       "      <td>0</td>\n",
       "      <td>0</td>\n",
       "      <td>0</td>\n",
       "      <td>0</td>\n",
       "      <td>0</td>\n",
       "      <td>...</td>\n",
       "      <td>0</td>\n",
       "      <td>0</td>\n",
       "      <td>0</td>\n",
       "      <td>0</td>\n",
       "      <td>0</td>\n",
       "      <td>0</td>\n",
       "      <td>0</td>\n",
       "      <td>0</td>\n",
       "      <td>0</td>\n",
       "      <td>0</td>\n",
       "    </tr>\n",
       "    <tr>\n",
       "      <th>2</th>\n",
       "      <td>ed2mah1</td>\n",
       "      <td>You do right, if you don't care then fuck 'em!</td>\n",
       "      <td>False</td>\n",
       "      <td>0</td>\n",
       "      <td>0</td>\n",
       "      <td>0</td>\n",
       "      <td>0</td>\n",
       "      <td>0</td>\n",
       "      <td>0</td>\n",
       "      <td>0</td>\n",
       "      <td>...</td>\n",
       "      <td>0</td>\n",
       "      <td>0</td>\n",
       "      <td>0</td>\n",
       "      <td>0</td>\n",
       "      <td>0</td>\n",
       "      <td>0</td>\n",
       "      <td>0</td>\n",
       "      <td>0</td>\n",
       "      <td>0</td>\n",
       "      <td>1</td>\n",
       "    </tr>\n",
       "    <tr>\n",
       "      <th>3</th>\n",
       "      <td>eeibobj</td>\n",
       "      <td>Man I love reddit.</td>\n",
       "      <td>False</td>\n",
       "      <td>0</td>\n",
       "      <td>0</td>\n",
       "      <td>0</td>\n",
       "      <td>0</td>\n",
       "      <td>0</td>\n",
       "      <td>0</td>\n",
       "      <td>0</td>\n",
       "      <td>...</td>\n",
       "      <td>1</td>\n",
       "      <td>0</td>\n",
       "      <td>0</td>\n",
       "      <td>0</td>\n",
       "      <td>0</td>\n",
       "      <td>0</td>\n",
       "      <td>0</td>\n",
       "      <td>0</td>\n",
       "      <td>0</td>\n",
       "      <td>0</td>\n",
       "    </tr>\n",
       "    <tr>\n",
       "      <th>4</th>\n",
       "      <td>eda6yn6</td>\n",
       "      <td>[NAME] was nowhere near them, he was by the Fa...</td>\n",
       "      <td>False</td>\n",
       "      <td>0</td>\n",
       "      <td>0</td>\n",
       "      <td>0</td>\n",
       "      <td>0</td>\n",
       "      <td>0</td>\n",
       "      <td>0</td>\n",
       "      <td>0</td>\n",
       "      <td>...</td>\n",
       "      <td>0</td>\n",
       "      <td>0</td>\n",
       "      <td>0</td>\n",
       "      <td>0</td>\n",
       "      <td>0</td>\n",
       "      <td>0</td>\n",
       "      <td>0</td>\n",
       "      <td>0</td>\n",
       "      <td>0</td>\n",
       "      <td>1</td>\n",
       "    </tr>\n",
       "  </tbody>\n",
       "</table>\n",
       "<p>5 rows × 31 columns</p>\n",
       "</div>"
      ],
      "text/plain": [
       "        id                                               text  \\\n",
       "0  eew5j0j                                    That game hurt.   \n",
       "1  eemcysk   >sexuality shouldn’t be a grouping category I...   \n",
       "2  ed2mah1     You do right, if you don't care then fuck 'em!   \n",
       "3  eeibobj                                 Man I love reddit.   \n",
       "4  eda6yn6  [NAME] was nowhere near them, he was by the Fa...   \n",
       "\n",
       "   example_very_unclear  admiration  amusement  anger  annoyance  approval  \\\n",
       "0                 False           0          0      0          0         0   \n",
       "1                  True           0          0      0          0         0   \n",
       "2                 False           0          0      0          0         0   \n",
       "3                 False           0          0      0          0         0   \n",
       "4                 False           0          0      0          0         0   \n",
       "\n",
       "   caring  confusion  ...  love  nervousness  optimism  pride  realization  \\\n",
       "0       0          0  ...     0            0         0      0            0   \n",
       "1       0          0  ...     0            0         0      0            0   \n",
       "2       0          0  ...     0            0         0      0            0   \n",
       "3       0          0  ...     1            0         0      0            0   \n",
       "4       0          0  ...     0            0         0      0            0   \n",
       "\n",
       "   relief  remorse  sadness  surprise  neutral  \n",
       "0       0        0        1         0        0  \n",
       "1       0        0        0         0        0  \n",
       "2       0        0        0         0        1  \n",
       "3       0        0        0         0        0  \n",
       "4       0        0        0         0        1  \n",
       "\n",
       "[5 rows x 31 columns]"
      ]
     },
     "execution_count": 6,
     "metadata": {},
     "output_type": "execute_result"
    }
   ],
   "source": [
    "df.head()"
   ]
  },
  {
   "cell_type": "code",
   "execution_count": 9,
   "metadata": {},
   "outputs": [],
   "source": [
    "#TRAIN/TEST SPLIT\n",
    "train_fraction = 0.9\n",
    "train_size = int(len(df) * train_fraction)\n",
    "trainDf = df.iloc[:train_size]\n",
    "testDf = df.iloc[train_size:]\n"
   ]
  },
  {
   "cell_type": "code",
   "execution_count": 6,
   "metadata": {},
   "outputs": [],
   "source": []
  },
  {
   "cell_type": "code",
   "execution_count": 17,
   "metadata": {},
   "outputs": [],
   "source": [
    "#create cohere model for everyone of the attributes in dataset\n",
    "#positive attributed to good value\n",
    "#negative \n",
    "#attrbute score of (1 or -1)* confidence to get float[0:1] as score for each of the intensity of the emotion \n",
    "tags = df.columns.values\n",
    "\n",
    "\n",
    "def create_example_array(df : pandas.DataFrame, tag) -> Example:\n",
    "    examples =[]\n",
    "    df.reset_index()\n",
    "    for i,row in df.iterrows():\n",
    "        examples.append(Example(row[\"text\"],str(row[tag])))\n",
    "    return examples"
   ]
  },
  {
   "cell_type": "code",
   "execution_count": 18,
   "metadata": {},
   "outputs": [],
   "source": [
    "examples = create_example_array(df,\"love\")"
   ]
  },
  {
   "cell_type": "code",
   "execution_count": 8,
   "metadata": {},
   "outputs": [],
   "source": [
    "def createText_tag_pair(df,tag):\n",
    "    return list(df[\"text\"]),list(df[tag])"
   ]
  },
  {
   "cell_type": "code",
   "execution_count": 9,
   "metadata": {},
   "outputs": [
    {
     "ename": "KeyboardInterrupt",
     "evalue": "",
     "output_type": "error",
     "traceback": [
      "\u001b[1;31m---------------------------------------------------------------------------\u001b[0m",
      "\u001b[1;31mKeyboardInterrupt\u001b[0m                         Traceback (most recent call last)",
      "Cell \u001b[1;32mIn [9], line 4\u001b[0m\n\u001b[0;32m      2\u001b[0m text_train,tags_train \u001b[39m=\u001b[39m createText_tag_pair(train,\u001b[39m\"\u001b[39m\u001b[39mlove\u001b[39m\u001b[39m\"\u001b[39m)\n\u001b[0;32m      3\u001b[0m text_test , tags_test \u001b[39m=\u001b[39m createText_tag_pair(test,\u001b[39m\"\u001b[39m\u001b[39mlove\u001b[39m\u001b[39m\"\u001b[39m)\n\u001b[1;32m----> 4\u001b[0m embedings_train \u001b[39m=\u001b[39m co\u001b[39m.\u001b[39;49membed(text_train,\u001b[39m\"\u001b[39;49m\u001b[39mlarge\u001b[39;49m\u001b[39m\"\u001b[39;49m,)\u001b[39m.\u001b[39membeddings\n\u001b[0;32m      5\u001b[0m embedings_test \u001b[39m=\u001b[39m co\u001b[39m.\u001b[39membed(text_test,\u001b[39m\"\u001b[39m\u001b[39mlarge\u001b[39m\u001b[39m\"\u001b[39m,)\u001b[39m.\u001b[39membeddings\n",
      "File \u001b[1;32m~\\AppData\\Local\\Packages\\PythonSoftwareFoundation.Python.3.10_qbz5n2kfra8p0\\LocalCache\\local-packages\\Python310\\site-packages\\cohere\\client.py:174\u001b[0m, in \u001b[0;36mClient.embed\u001b[1;34m(self, texts, model, truncate)\u001b[0m\n\u001b[0;32m    172\u001b[0m         responses\u001b[39m.\u001b[39mappend(response[\u001b[39m'\u001b[39m\u001b[39membeddings\u001b[39m\u001b[39m'\u001b[39m])\n\u001b[0;32m    173\u001b[0m \u001b[39melse\u001b[39;00m:\n\u001b[1;32m--> 174\u001b[0m     \u001b[39mfor\u001b[39;00m result \u001b[39min\u001b[39;00m \u001b[39mself\u001b[39m\u001b[39m.\u001b[39m_executor\u001b[39m.\u001b[39mmap(\u001b[39mlambda\u001b[39;00m json_body: \u001b[39mself\u001b[39m\u001b[39m.\u001b[39m__request(cohere\u001b[39m.\u001b[39mEMBED_URL, json\u001b[39m=\u001b[39mjson_body),\n\u001b[0;32m    175\u001b[0m                                      json_bodys):\n\u001b[0;32m    176\u001b[0m         responses\u001b[39m.\u001b[39mextend(result[\u001b[39m'\u001b[39m\u001b[39membeddings\u001b[39m\u001b[39m'\u001b[39m])\n\u001b[0;32m    178\u001b[0m \u001b[39mreturn\u001b[39;00m Embeddings(responses)\n",
      "File \u001b[1;32mC:\\Program Files\\WindowsApps\\PythonSoftwareFoundation.Python.3.10_3.10.2544.0_x64__qbz5n2kfra8p0\\lib\\concurrent\\futures\\_base.py:621\u001b[0m, in \u001b[0;36mExecutor.map.<locals>.result_iterator\u001b[1;34m()\u001b[0m\n\u001b[0;32m    618\u001b[0m \u001b[39mwhile\u001b[39;00m fs:\n\u001b[0;32m    619\u001b[0m     \u001b[39m# Careful not to keep a reference to the popped future\u001b[39;00m\n\u001b[0;32m    620\u001b[0m     \u001b[39mif\u001b[39;00m timeout \u001b[39mis\u001b[39;00m \u001b[39mNone\u001b[39;00m:\n\u001b[1;32m--> 621\u001b[0m         \u001b[39myield\u001b[39;00m _result_or_cancel(fs\u001b[39m.\u001b[39;49mpop())\n\u001b[0;32m    622\u001b[0m     \u001b[39melse\u001b[39;00m:\n\u001b[0;32m    623\u001b[0m         \u001b[39myield\u001b[39;00m _result_or_cancel(fs\u001b[39m.\u001b[39mpop(), end_time \u001b[39m-\u001b[39m time\u001b[39m.\u001b[39mmonotonic())\n",
      "File \u001b[1;32mC:\\Program Files\\WindowsApps\\PythonSoftwareFoundation.Python.3.10_3.10.2544.0_x64__qbz5n2kfra8p0\\lib\\concurrent\\futures\\_base.py:319\u001b[0m, in \u001b[0;36m_result_or_cancel\u001b[1;34m(***failed resolving arguments***)\u001b[0m\n\u001b[0;32m    317\u001b[0m \u001b[39mtry\u001b[39;00m:\n\u001b[0;32m    318\u001b[0m     \u001b[39mtry\u001b[39;00m:\n\u001b[1;32m--> 319\u001b[0m         \u001b[39mreturn\u001b[39;00m fut\u001b[39m.\u001b[39;49mresult(timeout)\n\u001b[0;32m    320\u001b[0m     \u001b[39mfinally\u001b[39;00m:\n\u001b[0;32m    321\u001b[0m         fut\u001b[39m.\u001b[39mcancel()\n",
      "File \u001b[1;32mC:\\Program Files\\WindowsApps\\PythonSoftwareFoundation.Python.3.10_3.10.2544.0_x64__qbz5n2kfra8p0\\lib\\concurrent\\futures\\_base.py:453\u001b[0m, in \u001b[0;36mFuture.result\u001b[1;34m(self, timeout)\u001b[0m\n\u001b[0;32m    450\u001b[0m \u001b[39melif\u001b[39;00m \u001b[39mself\u001b[39m\u001b[39m.\u001b[39m_state \u001b[39m==\u001b[39m FINISHED:\n\u001b[0;32m    451\u001b[0m     \u001b[39mreturn\u001b[39;00m \u001b[39mself\u001b[39m\u001b[39m.\u001b[39m__get_result()\n\u001b[1;32m--> 453\u001b[0m \u001b[39mself\u001b[39;49m\u001b[39m.\u001b[39;49m_condition\u001b[39m.\u001b[39;49mwait(timeout)\n\u001b[0;32m    455\u001b[0m \u001b[39mif\u001b[39;00m \u001b[39mself\u001b[39m\u001b[39m.\u001b[39m_state \u001b[39min\u001b[39;00m [CANCELLED, CANCELLED_AND_NOTIFIED]:\n\u001b[0;32m    456\u001b[0m     \u001b[39mraise\u001b[39;00m CancelledError()\n",
      "File \u001b[1;32mC:\\Program Files\\WindowsApps\\PythonSoftwareFoundation.Python.3.10_3.10.2544.0_x64__qbz5n2kfra8p0\\lib\\threading.py:320\u001b[0m, in \u001b[0;36mCondition.wait\u001b[1;34m(self, timeout)\u001b[0m\n\u001b[0;32m    318\u001b[0m \u001b[39mtry\u001b[39;00m:    \u001b[39m# restore state no matter what (e.g., KeyboardInterrupt)\u001b[39;00m\n\u001b[0;32m    319\u001b[0m     \u001b[39mif\u001b[39;00m timeout \u001b[39mis\u001b[39;00m \u001b[39mNone\u001b[39;00m:\n\u001b[1;32m--> 320\u001b[0m         waiter\u001b[39m.\u001b[39;49macquire()\n\u001b[0;32m    321\u001b[0m         gotit \u001b[39m=\u001b[39m \u001b[39mTrue\u001b[39;00m\n\u001b[0;32m    322\u001b[0m     \u001b[39melse\u001b[39;00m:\n",
      "\u001b[1;31mKeyboardInterrupt\u001b[0m: "
     ]
    }
   ],
   "source": [
    "#doing for love\n",
    "text_train,tags_train = createText_tag_pair(train,\"love\")\n",
    "text_test , tags_test = createText_tag_pair(test,\"love\")\n",
    "embedings_train = co.embed(text_train,\"large\",).embeddings\n",
    "embedings_test = co.embed(text_test,\"large\",).embeddings"
   ]
  },
  {
   "cell_type": "code",
   "execution_count": 21,
   "metadata": {},
   "outputs": [],
   "source": [
    "response = co.classify(examples=examples[:2499],inputs = ['my name jeff and love cookie'], model = 'large')"
   ]
  },
  {
   "cell_type": "code",
   "execution_count": 22,
   "metadata": {},
   "outputs": [
    {
     "data": {
      "text/plain": [
       "[Classification<prediction: \"1\", confidence: 0.9919617, labels: {'0': LabelPrediction(confidence=0.008038264), '1': LabelPrediction(confidence=0.9919617)}>]"
      ]
     },
     "execution_count": 22,
     "metadata": {},
     "output_type": "execute_result"
    }
   ],
   "source": [
    "response.classifications"
   ]
  },
  {
   "cell_type": "code",
   "execution_count": 24,
   "metadata": {},
   "outputs": [
    {
     "name": "stdout",
     "output_type": "stream",
     "text": [
      "Package            Version\n",
      "------------------ ---------\n",
      "asttokens          2.0.8\n",
      "backcall           0.2.0\n",
      "black              22.8.0\n",
      "certifi            2022.9.24\n",
      "charset-normalizer 2.1.1\n",
      "click              8.1.3\n",
      "cohere             3.3.2\n",
      "colorama           0.4.5\n",
      "cycler             0.11.0\n",
      "debugpy            1.6.3\n",
      "decorator          4.4.2\n",
      "distlib            0.3.6\n",
      "entrypoints        0.4\n",
      "executing          1.0.0\n",
      "filelock           3.9.0\n",
      "fonttools          4.37.1\n",
      "idna               3.4\n",
      "imageio            2.22.3\n",
      "imageio-ffmpeg     0.4.7\n",
      "ipykernel          6.15.3\n",
      "ipython            8.5.0\n",
      "jedi               0.18.1\n",
      "jupyter_client     7.3.5\n",
      "jupyter-core       4.11.1\n",
      "keyboard           0.13.5\n",
      "kiwisolver         1.4.4\n",
      "matplotlib         3.5.3\n",
      "matplotlib-inline  0.1.6\n",
      "moviepy            1.0.3\n",
      "mpmath             1.2.1\n",
      "mypy-extensions    0.4.3\n",
      "nest-asyncio       1.5.5\n",
      "networkx           2.8.8\n",
      "numpy              1.23.3\n",
      "packaging          21.3\n",
      "pandas             1.5.1\n",
      "parso              0.8.3\n",
      "pathspec           0.10.1\n",
      "pickleshare        0.7.5\n",
      "Pillow             9.2.0\n",
      "pip                22.1.2\n",
      "pipenv             2023.2.4\n",
      "platformdirs       2.5.2\n",
      "proglog            0.1.10\n",
      "prompt-toolkit     3.0.31\n",
      "psutil             5.9.2\n",
      "pure-eval          0.2.2\n",
      "Pygments           2.13.0\n",
      "pyparsing          3.0.9\n",
      "PyPDF2             2.12.1\n",
      "python-dateutil    2.8.2\n",
      "pytz               2022.5\n",
      "pywin32            304\n",
      "pyzmq              23.2.1\n",
      "requests           2.28.1\n",
      "scipy              1.9.3\n",
      "seaborn            0.12.1\n",
      "six                1.16.0\n",
      "sklearn            0.0.post1\n",
      "stack-data         0.5.0\n",
      "sympy              1.11.1\n",
      "termcolor          2.1.1\n",
      "tomli              2.0.1\n",
      "tornado            6.2\n",
      "tqdm               4.64.1\n",
      "traitlets          5.4.0\n",
      "urllib3            1.26.12\n",
      "virtualenv         20.16.5\n",
      "virtualenv-clone   0.5.7\n",
      "wcwidth            0.2.5\n",
      "xgboost            1.6.2\n",
      "\n",
      "[notice] A new release of pip available: 22.1.2 -> 23.0\n",
      "[notice] To update, run: C:\\Users\\Antoine\\AppData\\Local\\Microsoft\\WindowsApps\\PythonSoftwareFoundation.Python.3.10_qbz5n2kfra8p0\\python.exe -m pip install --upgrade pip\n",
      "Note: you may need to restart the kernel to use updated packages.\n"
     ]
    },
    {
     "name": "stderr",
     "output_type": "stream",
     "text": [
      "WARNING: Ignoring invalid distribution -ipenv (c:\\users\\antoine\\appdata\\local\\packages\\pythonsoftwarefoundation.python.3.10_qbz5n2kfra8p0\\localcache\\local-packages\\python310\\site-packages)\n",
      "WARNING: Ignoring invalid distribution -ipenv (c:\\users\\antoine\\appdata\\local\\packages\\pythonsoftwarefoundation.python.3.10_qbz5n2kfra8p0\\localcache\\local-packages\\python310\\site-packages)\n",
      "WARNING: Ignoring invalid distribution -ipenv (c:\\users\\antoine\\appdata\\local\\packages\\pythonsoftwarefoundation.python.3.10_qbz5n2kfra8p0\\localcache\\local-packages\\python310\\site-packages)\n",
      "WARNING: Ignoring invalid distribution -ipenv (c:\\users\\antoine\\appdata\\local\\packages\\pythonsoftwarefoundation.python.3.10_qbz5n2kfra8p0\\localcache\\local-packages\\python310\\site-packages)\n"
     ]
    },
    {
     "name": "stdout",
     "output_type": "stream",
     "text": [
      "Requirement already satisfied: xgboost in c:\\users\\antoine\\appdata\\local\\packages\\pythonsoftwarefoundation.python.3.10_qbz5n2kfra8p0\\localcache\\local-packages\\python310\\site-packages (1.6.2)\n",
      "Requirement already satisfied: numpy in c:\\users\\antoine\\appdata\\local\\packages\\pythonsoftwarefoundation.python.3.10_qbz5n2kfra8p0\\localcache\\local-packages\\python310\\site-packages (from xgboost) (1.23.3)\n",
      "Requirement already satisfied: scipy in c:\\users\\antoine\\appdata\\local\\packages\\pythonsoftwarefoundation.python.3.10_qbz5n2kfra8p0\\localcache\\local-packages\\python310\\site-packages (from xgboost) (1.9.3)\n",
      "\n",
      "[notice] A new release of pip available: 22.1.2 -> 23.0\n",
      "[notice] To update, run: C:\\Users\\Antoine\\AppData\\Local\\Microsoft\\WindowsApps\\PythonSoftwareFoundation.Python.3.10_qbz5n2kfra8p0\\python.exe -m pip install --upgrade pip\n",
      "Note: you may need to restart the kernel to use updated packages.\n"
     ]
    },
    {
     "name": "stderr",
     "output_type": "stream",
     "text": [
      "WARNING: Ignoring invalid distribution -ipenv (c:\\users\\antoine\\appdata\\local\\packages\\pythonsoftwarefoundation.python.3.10_qbz5n2kfra8p0\\localcache\\local-packages\\python310\\site-packages)\n",
      "WARNING: Ignoring invalid distribution -ipenv (c:\\users\\antoine\\appdata\\local\\packages\\pythonsoftwarefoundation.python.3.10_qbz5n2kfra8p0\\localcache\\local-packages\\python310\\site-packages)\n",
      "WARNING: Ignoring invalid distribution -ipenv (c:\\users\\antoine\\appdata\\local\\packages\\pythonsoftwarefoundation.python.3.10_qbz5n2kfra8p0\\localcache\\local-packages\\python310\\site-packages)\n",
      "WARNING: Ignoring invalid distribution -ipenv (c:\\users\\antoine\\appdata\\local\\packages\\pythonsoftwarefoundation.python.3.10_qbz5n2kfra8p0\\localcache\\local-packages\\python310\\site-packages)\n",
      "WARNING: Ignoring invalid distribution -ipenv (c:\\users\\antoine\\appdata\\local\\packages\\pythonsoftwarefoundation.python.3.10_qbz5n2kfra8p0\\localcache\\local-packages\\python310\\site-packages)\n",
      "WARNING: Ignoring invalid distribution -ipenv (c:\\users\\antoine\\appdata\\local\\packages\\pythonsoftwarefoundation.python.3.10_qbz5n2kfra8p0\\localcache\\local-packages\\python310\\site-packages)\n"
     ]
    }
   ],
   "source": [
    "%pip list\n",
    "%pip install xgboost"
   ]
  },
  {
   "cell_type": "code",
   "execution_count": null,
   "metadata": {},
   "outputs": [],
   "source": []
  },
  {
   "cell_type": "markdown",
   "metadata": {},
   "source": []
  }
 ],
 "metadata": {
  "kernelspec": {
   "display_name": "Python 3",
   "language": "python",
   "name": "python3"
  },
  "language_info": {
   "codemirror_mode": {
    "name": "ipython",
    "version": 3
   },
   "file_extension": ".py",
   "mimetype": "text/x-python",
   "name": "python",
   "nbconvert_exporter": "python",
   "pygments_lexer": "ipython3",
   "version": "3.10.9"
  },
  "orig_nbformat": 4,
  "vscode": {
   "interpreter": {
    "hash": "7f1f8ce21646b000042b002f1e6b4bc353bfed33ad1fcf79951c0bf77801bbf4"
   }
  }
 },
 "nbformat": 4,
 "nbformat_minor": 2
}
